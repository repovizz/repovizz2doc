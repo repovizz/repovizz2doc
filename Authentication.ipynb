{
 "cells": [
  {
   "cell_type": "markdown",
   "metadata": {
    "slideshow": {
     "slide_type": "slide"
    }
   },
   "source": [
    "Repovizz2 Authentication\n",
    "=======================\n",
    "\n",
    "To make requests to the API, a Client **will have to be authorized by both the user and repovizz2**. To do that, the Client has first to request repovizz2, which will authenticate and ask the user, to then generate a token that can be used by the client to access the API on behalf of the user.\n",
    " "
   ]
  },
  {
   "cell_type": "markdown",
   "metadata": {
    "slideshow": {
     "slide_type": "slide"
    }
   },
   "source": [
    "Some clarifying Oauth2 concepts:\n",
    "- _User_: An account registered in repovizz2. Users have usernames and passwords.\n",
    "- _Client_: A piece of software that access repovizz2 on behalf of the User. Clients have ID and Secrets. Our example scripts are clients.\n",
    "- _Provider_: repovizz2. It holds data and functionality of the User."
   ]
  },
  {
   "cell_type": "markdown",
   "metadata": {
    "slideshow": {
     "slide_type": "slide"
    }
   },
   "source": [
    "So to run these scripts, you will need a repovizz2 account. [You can create one for free here](http://repovizz2.upf.edu/user/register). One you have don that, you can register a Client. To do so, go to [new client form](http://repovizz2.upf.edu/new_client) and fill the details:"
   ]
  },
  {
   "cell_type": "markdown",
   "metadata": {
    "slideshow": {
     "slide_type": "slide"
    }
   },
   "source": [
    "- _Name_: The client's name\n",
    "- _Description_: The client's purpose\n",
    "- _Privacy_: Wether this client is for _public_ or _private_ use.\n",
    "- _Scopes_: Depending of the actions this client will perfor (reading datapacks, changing account details) you have to request a series of _scopes_. Repovizz2 implements the following scopes (repovizz2 will be adding more scopes):\n",
    "     - _basic_: This scope gives the Client full powers.\n",
    "- _Redirect URLs_: List of urls for redirection after authentication, one per line. To run the examples you only need to add `http://localhost:50009`. See [Redirects](#Redirects) for more info.\n"
   ]
  },
  {
   "cell_type": "markdown",
   "metadata": {
    "slideshow": {
     "slide_type": "slide"
    }
   },
   "source": [
    "After registering your client, you can fetch its _ID_ and _Secret_. Do it in the [clients list page](http://repovizz2.upf.edu/clients). Please keep the client secret, you know, _secret_. With those you can start using a script (Client) to perform actions through repovizz2 API.\n",
    "\n"
   ]
  },
  {
   "cell_type": "markdown",
   "metadata": {
    "slideshow": {
     "slide_type": "slide"
    }
   },
   "source": [
    "Repovizz2 Authentication Flow, briefly\n",
    "-------------------------------------\n",
    "\n",
    "Repovizz2, as an oauth2 provider, defines two endpoints that will be used:\n",
    "\n",
    "- Authorization endpoint, used to ask the user for permission\n",
    "- Token endpoint, used to request a token\n",
    "\n",
    "\n"
   ]
  },
  {
   "cell_type": "markdown",
   "metadata": {
    "slideshow": {
     "slide_type": "slide"
    }
   },
   "source": [
    "The Client will craft a url using the authorization point, its ID, the requested scope and a _redirection url_. The user must open this url in a web browser, authenticate herself, and confirm the permissions requested by the client. After doing so, she will be redirected to the _redirection url_ with some of the parameters encoded in. The client can use this redirection to acquire a temporary token that can be used later.\n",
    "\n",
    "Using the token endpoint, the client will create a url encoding the temporary token to get the access token that will be attached in all the repovizz2 API calls. No user intervention is required then.\n",
    "\n",
    "This way the client will never ask the User for the username or password."
   ]
  },
  {
   "cell_type": "markdown",
   "metadata": {
    "slideshow": {
     "slide_type": "slide"
    }
   },
   "source": [
    "![Authentication](https://developer.constantcontact.com/dotAsset/991381b5-0917-4799-b76a-b87f45a9d9f0.png)"
   ]
  },
  {
   "cell_type": "markdown",
   "metadata": {
    "slideshow": {
     "slide_type": "slide"
    }
   },
   "source": [
    "Redirects\n",
    "---------\n",
    "\n",
    "When registering a client, we have to provide a list of redirects. Those are the ones that can be requested by the client in the authorization phase. Usually Web applications will use redirects in its own domain, so they can process the temporary token and acquire the access token automatically. Desktop applications can set up a temporary web server to do so (redirecting to `loclahost`) or rely on an external service. Repovizz2 also provides a generic redirect that can be used by clients that don't want to implement it: `/oauth/show_token`; this will show the url to the user so she can copy and paste it to the client manually."
   ]
  },
  {
   "cell_type": "markdown",
   "metadata": {
    "slideshow": {
     "slide_type": "slide"
    }
   },
   "source": [
    "Authenticating a client using `repovizz2` Python library\n",
    "-------------------------------------------------------\n",
    "\n",
    "This repository has the `repovizz2` client python library that eases the process of the authentication:"
   ]
  },
  {
   "cell_type": "code",
   "execution_count": null,
   "metadata": {
    "collapsed": true
   },
   "outputs": [],
   "source": [
    "from repovizz2 import RepoVizzClient"
   ]
  },
  {
   "cell_type": "code",
   "execution_count": null,
   "metadata": {
    "collapsed": false
   },
   "outputs": [],
   "source": [
    "# Creating client, repovizz_url is optional, used for testing purposes\n",
    "repovizz_client = RepoVizzClient(\n",
    "    client_id=CLIENT_ID,\n",
    "    client_secret=CLIENT_SECRET,\n",
    "    repovizz_url=\"http://repovizz2.upf.edu\")"
   ]
  },
  {
   "cell_type": "code",
   "execution_count": null,
   "metadata": {
    "collapsed": true,
    "slideshow": {
     "slide_type": "slide"
    }
   },
   "outputs": [],
   "source": [
    "# This creates the authorization url\n",
    "authorization_url = repovizz_client.start_auth()"
   ]
  },
  {
   "cell_type": "code",
   "execution_count": null,
   "metadata": {
    "collapsed": true
   },
   "outputs": [],
   "source": [
    "# Start internal webserver\n",
    "# If async is False or absent this call will block\n",
    "\n",
    "#repovizz_client.start_server(async=True)"
   ]
  },
  {
   "cell_type": "code",
   "execution_count": null,
   "metadata": {
    "collapsed": true
   },
   "outputs": [],
   "source": [
    "# open this authorization url in the web browser\n",
    "#import webbrowser\n",
    "#webbrowser.open(authorization_url)\n"
   ]
  },
  {
   "cell_type": "code",
   "execution_count": null,
   "metadata": {
    "collapsed": true
   },
   "outputs": [],
   "source": [
    "# This will block until user confirmation and will finish the authentication\n",
    "#repovizz_client.finish_auth()"
   ]
  },
  {
   "cell_type": "code",
   "execution_count": null,
   "metadata": {
    "collapsed": true,
    "slideshow": {
     "slide_type": "slide"
    }
   },
   "outputs": [],
   "source": [
    "# We can now start using the API\n",
    "#repovizz_client.get(...)\n",
    "#repovizz_client.post(...)"
   ]
  }
 ],
 "metadata": {
  "celltoolbar": "Slideshow",
  "kernelspec": {
   "display_name": "Python 2",
   "language": "python",
   "name": "python2"
  },
  "language_info": {
   "codemirror_mode": {
    "name": "ipython",
    "version": 2
   },
   "file_extension": ".py",
   "mimetype": "text/x-python",
   "name": "python",
   "nbconvert_exporter": "python",
   "pygments_lexer": "ipython2",
   "version": "2.7.10"
  }
 },
 "nbformat": 4,
 "nbformat_minor": 1
}
